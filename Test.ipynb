{
 "cells": [
  {
   "cell_type": "code",
   "execution_count": 1,
   "metadata": {},
   "outputs": [
    {
     "name": "stdout",
     "output_type": "stream",
     "text": [
      "    Alter  Geschlecht          Genre\n",
      "0      10           1  KinderFantasy\n",
      "1      12           0        Fantasy\n",
      "2      14           0        Fantasy\n",
      "3      16           0        Romtaik\n",
      "4      18           1         Action\n",
      "5      20           0         Comedy\n",
      "6      22           1         Comedy\n",
      "7      24           0       Romantik\n",
      "8      26           0         RomCom\n",
      "9      28           1        Fantasy\n",
      "10     30           1        Fantasy\n",
      "11     32           1        Romtaik\n",
      "12     34           1         Action\n",
      "13     36           0         Comedy\n",
      "14     38           1         Comedy\n",
      "15     40           1       Romantik\n",
      "16     42           0         RomCom\n",
      "17     44           0        Fantasy\n",
      "18     46           1        Fantasy\n",
      "19     48           0        Romtaik\n",
      "20     50           0         Action\n"
     ]
    }
   ],
   "source": [
    "import pandas as pd\n",
    "from sklearn.tree import DecisionTreeClassifier\n",
    "\n",
    "df = pd.read_csv(\"MLTest .csv\")\n",
    "\n",
    "print(df)"
   ]
  },
  {
   "cell_type": "code",
   "execution_count": 4,
   "metadata": {},
   "outputs": [
    {
     "name": "stdout",
     "output_type": "stream",
     "text": [
      "['Fantasy']\n"
     ]
    }
   ],
   "source": [
    "X = df.drop(columns=[\"Genre\"])\n",
    "y = df[\"Genre\"]\n",
    "\n",
    "model = DecisionTreeClassifier()\n",
    "model.fit(X, y)\n",
    "p = model.predict([[15, 0]])\n",
    "\n",
    "print(p)"
   ]
  }
 ],
 "metadata": {
  "kernelspec": {
   "display_name": "Python 3",
   "language": "python",
   "name": "python3"
  },
  "language_info": {
   "codemirror_mode": {
    "name": "ipython",
    "version": 3
   },
   "file_extension": ".py",
   "mimetype": "text/x-python",
   "name": "python",
   "nbconvert_exporter": "python",
   "pygments_lexer": "ipython3",
   "version": "3.8.5"
  }
 },
 "nbformat": 4,
 "nbformat_minor": 4
}
