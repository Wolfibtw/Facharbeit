{
 "cells": [
  {
   "cell_type": "code",
   "execution_count": 3,
   "metadata": {},
   "outputs": [],
   "source": [
    "import pandas as pd \n",
    "\n",
    "df = pd.read_csv(\"Unternehmensverkäufe.csv\")"
   ]
  },
  {
   "cell_type": "code",
   "execution_count": 4,
   "metadata": {
    "scrolled": true
   },
   "outputs": [
    {
     "name": "stdout",
     "output_type": "stream",
     "text": [
      "        Produkt Preis in €  VerkäufeQ1  VerkäufeQ2  VerkäufeQ3  VerkäufeQ4  \\\n",
      "0  HandyModell1        350          45           0          89          21   \n",
      "1  HandyModell2        600          33           3          80          45   \n",
      "2     Kopfhörer         85          11          24          31           7   \n",
      "3     Ladegerät       32,5          73          47          56          11   \n",
      "4   Handyhülle1      25,99         120          52          75         154   \n",
      "5   Handyhülle2      15,99          89          19          31         180   \n",
      "6   Handyhülle3      18,99          99          56          19          33   \n",
      "7   Handyhülle4      35,99          51         144           5          15   \n",
      "\n",
      "  UmsatzQ1 UmsatzQ2 UmsatzQ3 UmsatzQ4  \n",
      "0    15750        0    31150     7350  \n",
      "1    19800     1800    48000    27000  \n",
      "2      935     2040     2635      595  \n",
      "3   2372,5   1527,5     1820    357,5  \n",
      "4   3118,8  1351,48  1949,25  4002,46  \n",
      "5  1423,11   303,81   495,69   2878,2  \n",
      "6  1880,01  1063,44   360,81   626,67  \n",
      "7  1835,49  5182,56   179,95   539,85  \n"
     ]
    }
   ],
   "source": [
    "print(df)"
   ]
  },
  {
   "cell_type": "code",
   "execution_count": 10,
   "metadata": {},
   "outputs": [
    {
     "name": "stdout",
     "output_type": "stream",
     "text": [
      "   VerkäufeQ1 UmsatzQ1\n",
      "0          45    15750\n",
      "1          33    19800\n",
      "2          11      935\n",
      "3          73   2372,5\n",
      "4         120   3118,8\n",
      "5          89  1423,11\n",
      "6          99  1880,01\n",
      "7          51  1835,49\n"
     ]
    }
   ],
   "source": [
    "print(df[[\"VerkäufeQ1\",\"UmsatzQ1\"]])"
   ]
  }
 ],
 "metadata": {
  "kernelspec": {
   "display_name": "Python 3",
   "language": "python",
   "name": "python3"
  },
  "language_info": {
   "codemirror_mode": {
    "name": "ipython",
    "version": 3
   },
   "file_extension": ".py",
   "mimetype": "text/x-python",
   "name": "python",
   "nbconvert_exporter": "python",
   "pygments_lexer": "ipython3",
   "version": "3.8.5"
  }
 },
 "nbformat": 4,
 "nbformat_minor": 4
}
